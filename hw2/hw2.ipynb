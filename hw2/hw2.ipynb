{
 "cells": [
  {
   "cell_type": "code",
   "execution_count": 379,
   "metadata": {},
   "outputs": [],
   "source": [
    "import pickle\n",
    "import numpy as np\n",
    "import pandas as pd\n",
    "import matplotlib.pyplot as plt\n",
    "\n",
    "from collections import defaultdict\n",
    "from scipy.sparse import lil_matrix, csr_matrix, coo_matrix, hstack, save_npz, load_npz\n",
    "\n",
    "from sklearn.linear_model import LogisticRegression\n",
    "\n",
    "from tqdm import tqdm\n",
    "import copy\n",
    "\n",
    "import torch\n",
    "import torch.nn as nn\n",
    "\n",
    "from scipy.stats import spearmanr, kendalltau"
   ]
  },
  {
   "cell_type": "markdown",
   "metadata": {},
   "source": [
    "# Выгрузка и обработка данных\n"
   ]
  },
  {
   "cell_type": "code",
   "execution_count": 197,
   "metadata": {},
   "outputs": [],
   "source": [
    "# with open(\"./chgk/players.pkl\", 'rb') as f:\n",
    "#     players = pickle.load(f)\n",
    "    \n",
    "with open(\"./chgk/results.pkl\", 'rb') as f:\n",
    "    results = pickle.load(f)\n",
    "    \n",
    "with open(\"./chgk/tournaments.pkl\", 'rb') as f:\n",
    "    tournaments = pickle.load(f)"
   ]
  },
  {
   "cell_type": "markdown",
   "metadata": {},
   "source": [
    "Возьмем в тренировочный набор турниры с dateStart из 2019 года; \n",
    "в тестовый — турниры с dateStart из 2020 года.\n",
    "\n",
    "Турниры, в которых есть данные о составах команд (количество команд > 1) и повопросных результатах\n",
    "\n",
    "Заменили \"?\" на 0 в масках"
   ]
  },
  {
   "cell_type": "code",
   "execution_count": 198,
   "metadata": {},
   "outputs": [],
   "source": [
    "results_2019 = defaultdict(list)\n",
    "results_2020 = defaultdict(list)\n",
    "for tour, teams in results.items():\n",
    "    year = int(tournaments[tour]['dateStart'][:4])\n",
    "    if (year == 2019 or year == 2020) and len(teams) > 1:\n",
    "        for team in teams:\n",
    "            if 'mask' in team and team['mask'] and team['teamMembers']:\n",
    "                mask = team['mask'].replace('?', '0')\n",
    "                if year == 2019:\n",
    "                    results_2019[tour].append({\n",
    "                        'team_id': team['team']['id'],\n",
    "                        'mask': mask,\n",
    "                        'members': [member['player']['id'] for member in team['teamMembers']]\n",
    "                    })\n",
    "                else:\n",
    "                    results_2020[tour].append({\n",
    "                        'team_id': team['team']['id'],\n",
    "                        'position': team['position'],\n",
    "                        'members': [member['player']['id'] for member in team['teamMembers']]\n",
    "                    })"
   ]
  },
  {
   "cell_type": "markdown",
   "metadata": {},
   "source": [
    "Почистим маски для results_2019. Выкинем команды которые ответили не на максимум вопросов. Выкинем вопросы где 'X'"
   ]
  },
  {
   "cell_type": "code",
   "execution_count": 307,
   "metadata": {},
   "outputs": [],
   "source": [
    "X_train = []\n",
    "question_count = 0\n",
    "for tour, teams in results_2019.items():\n",
    "    teams.sort(key=lambda x: len(x['mask']), reverse=True)\n",
    "    masks = pd.DataFrame([list(team['mask']) for team in teams])\n",
    "    masks.dropna(inplace=True)\n",
    "    for col in masks:\n",
    "        if not masks[masks[col] == 'X'].empty:\n",
    "            masks.drop(columns=[col], inplace=True)\n",
    "    masks = masks.astype(int).values\n",
    "    \n",
    "    question_numbers = np.arange(question_count, question_count + masks.shape[1])\n",
    "    question_count = question_count + masks.shape[1]\n",
    "    \n",
    "    for i in range(masks.shape[0]):\n",
    "        tmp = np.stack(np.broadcast_arrays(tour, \n",
    "                                           teams[i]['team_id'], \n",
    "                                           teams[i]['members'], \n",
    "                                           question_numbers.reshape(-1,1), \n",
    "                                           masks[i].reshape((-1,1))))\n",
    "        t = tmp.T\n",
    "        X_train.extend(t.reshape(len(teams[i]['members']) * len(question_numbers), 5).tolist())"
   ]
  },
  {
   "cell_type": "code",
   "execution_count": 309,
   "metadata": {},
   "outputs": [],
   "source": [
    "np.random.shuffle(X_train)"
   ]
  },
  {
   "cell_type": "code",
   "execution_count": 317,
   "metadata": {},
   "outputs": [],
   "source": [
    "X_train_pd = pd.DataFrame(X_train, \n",
    "                          columns=['tour', \n",
    "                                   'team_id', \n",
    "                                   'player',\n",
    "                                   'question_id',\n",
    "                                   'answer']).astype({'tour': 'int32', \n",
    "                                                      'team_id': 'int32',\n",
    "                                                      'player': 'int32',\n",
    "                                                      'question_id': 'int32',\n",
    "                                                      'answer': 'int8'})\n",
    "X_train_pd.to_csv('./train.csv', index=False)"
   ]
  },
  {
   "cell_type": "code",
   "execution_count": null,
   "metadata": {},
   "outputs": [],
   "source": []
  },
  {
   "cell_type": "code",
   "execution_count": 19,
   "metadata": {},
   "outputs": [],
   "source": [
    "train_data = pd.read_csv('./train.csv')"
   ]
  },
  {
   "cell_type": "code",
   "execution_count": 319,
   "metadata": {},
   "outputs": [
    {
     "data": {
      "text/html": [
       "<div>\n",
       "<style scoped>\n",
       "    .dataframe tbody tr th:only-of-type {\n",
       "        vertical-align: middle;\n",
       "    }\n",
       "\n",
       "    .dataframe tbody tr th {\n",
       "        vertical-align: top;\n",
       "    }\n",
       "\n",
       "    .dataframe thead th {\n",
       "        text-align: right;\n",
       "    }\n",
       "</style>\n",
       "<table border=\"1\" class=\"dataframe\">\n",
       "  <thead>\n",
       "    <tr style=\"text-align: right;\">\n",
       "      <th></th>\n",
       "      <th>tour</th>\n",
       "      <th>team_id</th>\n",
       "      <th>player</th>\n",
       "      <th>question_id</th>\n",
       "      <th>answer</th>\n",
       "    </tr>\n",
       "  </thead>\n",
       "  <tbody>\n",
       "    <tr>\n",
       "      <th>0</th>\n",
       "      <td>5401</td>\n",
       "      <td>2</td>\n",
       "      <td>13782</td>\n",
       "      <td>5274</td>\n",
       "      <td>1</td>\n",
       "    </tr>\n",
       "    <tr>\n",
       "      <th>1</th>\n",
       "      <td>5854</td>\n",
       "      <td>74349</td>\n",
       "      <td>46688</td>\n",
       "      <td>23945</td>\n",
       "      <td>0</td>\n",
       "    </tr>\n",
       "    <tr>\n",
       "      <th>2</th>\n",
       "      <td>5728</td>\n",
       "      <td>69316</td>\n",
       "      <td>190661</td>\n",
       "      <td>19361</td>\n",
       "      <td>0</td>\n",
       "    </tr>\n",
       "    <tr>\n",
       "      <th>3</th>\n",
       "      <td>5729</td>\n",
       "      <td>65981</td>\n",
       "      <td>73522</td>\n",
       "      <td>19389</td>\n",
       "      <td>1</td>\n",
       "    </tr>\n",
       "    <tr>\n",
       "      <th>4</th>\n",
       "      <td>5852</td>\n",
       "      <td>73088</td>\n",
       "      <td>79222</td>\n",
       "      <td>23885</td>\n",
       "      <td>0</td>\n",
       "    </tr>\n",
       "  </tbody>\n",
       "</table>\n",
       "</div>"
      ],
      "text/plain": [
       "   tour  team_id  player  question_id  answer\n",
       "0  5401        2   13782         5274       1\n",
       "1  5854    74349   46688        23945       0\n",
       "2  5728    69316  190661        19361       0\n",
       "3  5729    65981   73522        19389       1\n",
       "4  5852    73088   79222        23885       0"
      ]
     },
     "execution_count": 319,
     "metadata": {},
     "output_type": "execute_result"
    }
   ],
   "source": [
    "train_data.head()"
   ]
  },
  {
   "cell_type": "markdown",
   "metadata": {},
   "source": [
    "### One-Hot encoding"
   ]
  },
  {
   "cell_type": "code",
   "execution_count": 323,
   "metadata": {},
   "outputs": [],
   "source": [
    "from sklearn.preprocessing import OneHotEncoder"
   ]
  },
  {
   "cell_type": "code",
   "execution_count": 357,
   "metadata": {},
   "outputs": [],
   "source": [
    "encoder = OneHotEncoder(dtype=int)"
   ]
  },
  {
   "cell_type": "code",
   "execution_count": 358,
   "metadata": {},
   "outputs": [],
   "source": [
    "oh_players = encoder.fit_transform(train_data.player.values.reshape(-1,1))"
   ]
  },
  {
   "cell_type": "code",
   "execution_count": 359,
   "metadata": {},
   "outputs": [
    {
     "data": {
      "text/plain": [
       "array([    15,     16,     23, ..., 224482, 224539, 224542])"
      ]
     },
     "execution_count": 359,
     "metadata": {},
     "output_type": "execute_result"
    }
   ],
   "source": [
    "encoder.categories_[0]"
   ]
  },
  {
   "cell_type": "code",
   "execution_count": 360,
   "metadata": {},
   "outputs": [],
   "source": [
    "encoder_q = OneHotEncoder(dtype=int)"
   ]
  },
  {
   "cell_type": "code",
   "execution_count": 361,
   "metadata": {},
   "outputs": [],
   "source": [
    "oh_questions = encoder_q.fit_transform(train_data.question_id.values.reshape(-1,1))"
   ]
  },
  {
   "cell_type": "code",
   "execution_count": 363,
   "metadata": {},
   "outputs": [
    {
     "data": {
      "text/plain": [
       "array([    0,     1,     2, ..., 33228, 33229, 33230])"
      ]
     },
     "execution_count": 363,
     "metadata": {},
     "output_type": "execute_result"
    }
   ],
   "source": [
    "encoder_q.categories_[0]"
   ]
  },
  {
   "cell_type": "code",
   "execution_count": 365,
   "metadata": {},
   "outputs": [
    {
     "data": {
      "text/plain": [
       "(17753292, 57424)"
      ]
     },
     "execution_count": 365,
     "metadata": {},
     "output_type": "execute_result"
    }
   ],
   "source": [
    "oh_players.shape"
   ]
  },
  {
   "cell_type": "code",
   "execution_count": 367,
   "metadata": {},
   "outputs": [],
   "source": [
    "oh = hstack([oh_players, oh_questions])"
   ]
  },
  {
   "cell_type": "code",
   "execution_count": 368,
   "metadata": {},
   "outputs": [
    {
     "data": {
      "text/plain": [
       "(17753292, 90655)"
      ]
     },
     "execution_count": 368,
     "metadata": {},
     "output_type": "execute_result"
    }
   ],
   "source": [
    "oh.shape"
   ]
  },
  {
   "cell_type": "markdown",
   "metadata": {},
   "source": [
    "# Построим baseline-модель на основе логистической регрессии, которая будет обучать рейтинг-лист игроков."
   ]
  },
  {
   "cell_type": "markdown",
   "metadata": {},
   "source": [
    "В качестве обучающей выборки возьмем всевозможные пары игрок-вопрос. Обучив модель, получим вектор параметров, которые будут соответствовать \"рейтингу\" конкретного игрока и \"сложности\" конкретного вопроса."
   ]
  },
  {
   "cell_type": "code",
   "execution_count": 369,
   "metadata": {},
   "outputs": [],
   "source": [
    "baseline = LogisticRegression()"
   ]
  },
  {
   "cell_type": "code",
   "execution_count": 370,
   "metadata": {},
   "outputs": [
    {
     "name": "stderr",
     "output_type": "stream",
     "text": [
      "/Users/yuliya/miniconda3/envs/nn/lib/python3.7/site-packages/sklearn/linear_model/_logistic.py:940: ConvergenceWarning: lbfgs failed to converge (status=1):\n",
      "STOP: TOTAL NO. of ITERATIONS REACHED LIMIT.\n",
      "\n",
      "Increase the number of iterations (max_iter) or scale the data as shown in:\n",
      "    https://scikit-learn.org/stable/modules/preprocessing.html\n",
      "Please also refer to the documentation for alternative solver options:\n",
      "    https://scikit-learn.org/stable/modules/linear_model.html#logistic-regression\n",
      "  extra_warning_msg=_LOGISTIC_SOLVER_CONVERGENCE_MSG)\n"
     ]
    },
    {
     "data": {
      "text/plain": [
       "LogisticRegression(C=1.0, class_weight=None, dual=False, fit_intercept=True,\n",
       "                   intercept_scaling=1, l1_ratio=None, max_iter=100,\n",
       "                   multi_class='auto', n_jobs=None, penalty='l2',\n",
       "                   random_state=None, solver='lbfgs', tol=0.0001, verbose=0,\n",
       "                   warm_start=False)"
      ]
     },
     "execution_count": 370,
     "metadata": {},
     "output_type": "execute_result"
    }
   ],
   "source": [
    "baseline.fit(oh, train_data.answer)"
   ]
  },
  {
   "cell_type": "code",
   "execution_count": 371,
   "metadata": {},
   "outputs": [
    {
     "data": {
      "text/plain": [
       "array([ 0.21897575,  1.08875896,  0.18195477, ...,  0.9309888 ,\n",
       "       -2.08718528, -1.64767097])"
      ]
     },
     "execution_count": 371,
     "metadata": {},
     "output_type": "execute_result"
    }
   ],
   "source": [
    "baseline.coef_[0]"
   ]
  },
  {
   "cell_type": "markdown",
   "metadata": {},
   "source": [
    "# Результаты нового турнира с известными составами"
   ]
  },
  {
   "cell_type": "markdown",
   "metadata": {},
   "source": [
    "Пусть рейтинг команды - средний рейтинг игроков. Отранжируем команды в каждом турнире по полученному рейтингу и вычислим коррелиции Спирмена и Кендалла с реальными положениями команд в турнирах."
   ]
  },
  {
   "cell_type": "code",
   "execution_count": 442,
   "metadata": {},
   "outputs": [],
   "source": [
    "def eval_rating(model_coef):\n",
    "    rating_dict = dict(zip(encoder.categories_[0], model_coef[:len(encoder.categories_[0])]))\n",
    "    total_spearman = 0\n",
    "    total_kendalltau = 0\n",
    "    for tour, teams in results_2020.items():\n",
    "        teams_rating = [np.mean([rating_dict[member] if member in rating_dict else 0 for member in team['members']])\n",
    "                       for team in teams]\n",
    "        teams_pos = [team['position'] for team in teams]\n",
    "        total_spearman += spearmanr(teams_pos, teams_rating)[0]\n",
    "        total_kendalltau += kendalltau(teams_pos, teams_rating)[0]\n",
    "    return abs(total_spearman / len(results_2020)), abs(total_kendalltau / len(results_2020))"
   ]
  },
  {
   "cell_type": "code",
   "execution_count": 444,
   "metadata": {},
   "outputs": [],
   "source": [
    "sp, kend = eval_rating(baseline.coef_[0])"
   ]
  },
  {
   "cell_type": "code",
   "execution_count": 445,
   "metadata": {},
   "outputs": [
    {
     "name": "stdout",
     "output_type": "stream",
     "text": [
      "Корреляция Спирмена: 0.7410600750145123\n",
      "Корреляция Кендалла: 0.5842877279564944\n"
     ]
    }
   ],
   "source": [
    "print(f'Корреляция Спирмена: {sp}')\n",
    "print(f'Корреляция Кендалла: {kend}')"
   ]
  },
  {
   "cell_type": "markdown",
   "metadata": {},
   "source": [
    "# ЧГК — это всё-таки командная игра."
   ]
  },
  {
   "cell_type": "markdown",
   "metadata": {},
   "source": [
    "Сделаем несколько предположений:\n",
    " \n",
    "Ответ команды:\n",
    "$$\n",
    "z = \n",
    "\\begin{cases}\n",
    "1, &\\text{если хотя бы один игрок из команды ответил верно} \\\\\n",
    "0, &\\text{если все игроки ответили неверно}\n",
    "\\end{cases}\n",
    "$$"
   ]
  },
  {
   "cell_type": "markdown",
   "metadata": {},
   "source": [
    "Будем моделировать вероятность того, что игрок правильно ответил на вопрос, с помощью логит функции:\n",
    "$$\n",
    "p(y = 1 | \\mathbf{x}) = \\sigma(\\eta(\\mathbf{x}))\n",
    "$$\n",
    "где $\\mathbf{x}$ $-$ вектор игрок + вопрос"
   ]
  },
  {
   "cell_type": "markdown",
   "metadata": {},
   "source": [
    "Используем ЕМ-алгоритм. В качестве скрытых переменных возьмем ответ игрока на вопрос."
   ]
  },
  {
   "cell_type": "markdown",
   "metadata": {},
   "source": [
    "E-шаг: \n",
    "$$\n",
    "y_i^{(m+1)} = \\mathbb{E}(y_i) = p(y_i = 1 | z) = \n",
    "\\begin{cases}\n",
    "\\dfrac{\\sigma\\left(\\eta^{(m)}(x_i)\\right)}{1 - \\prod\\limits_{j}\\left(1 - \\sigma\\left(\\eta^{(m)}(x_j)\\right)\\right)}, &\\text{z = 1} \\\\\n",
    "0, &z = 0\n",
    "\\end{cases}\n",
    "$$"
   ]
  },
  {
   "cell_type": "markdown",
   "metadata": {},
   "source": [
    "M-шаг: обучаем лог регрессию при новых скрытых параметрах. Получим новые $\\eta^{(m+1)}$."
   ]
  },
  {
   "cell_type": "markdown",
   "metadata": {},
   "source": [
    "В качестве начального приближения $\\eta^{(0)}$ возьмем параметры baseline модели."
   ]
  },
  {
   "cell_type": "code",
   "execution_count": 392,
   "metadata": {},
   "outputs": [],
   "source": [
    "def to_sparse_tensor(coo_matrix):\n",
    "    values = coo_matrix.data\n",
    "    indices = np.vstack((coo_matrix.row, coo_matrix.col))\n",
    "\n",
    "    i = torch.LongTensor(indices)\n",
    "    v = torch.FloatTensor(values)\n",
    "    shape = coo_matrix.shape\n",
    "\n",
    "    return torch.sparse.FloatTensor(i, v, torch.Size(shape))"
   ]
  },
  {
   "cell_type": "code",
   "execution_count": 393,
   "metadata": {},
   "outputs": [],
   "source": [
    "sparse_tensor = to_sparse_tensor(oh)"
   ]
  },
  {
   "cell_type": "code",
   "execution_count": 484,
   "metadata": {},
   "outputs": [],
   "source": [
    "def train_model(\n",
    "    model,\n",
    "    opt,\n",
    "    loss_function,\n",
    "    X,  \n",
    "    y,  \n",
    "    iters = 10\n",
    "):\n",
    "    model.train()\n",
    "    for i in tqdm(range(iters)):     \n",
    "        logits = model(X).flatten()\n",
    "        loss = loss_function(torch.sigmoid(logits), y)\n",
    "        loss.backward()\n",
    "        opt.step()\n",
    "        opt.zero_grad()      \n",
    "    return model"
   ]
  },
  {
   "cell_type": "code",
   "execution_count": null,
   "metadata": {},
   "outputs": [],
   "source": []
  },
  {
   "cell_type": "code",
   "execution_count": 485,
   "metadata": {},
   "outputs": [],
   "source": [
    "tmp = train_data[['team_id', 'question_id']].copy()\n",
    "def e_step(model):\n",
    "    model.eval()\n",
    "    logits = model(sparse_tensor).detach()\n",
    "    preds = torch.sigmoid(logits).flatten().numpy()\n",
    "    tmp['vals'] = 1 - preds\n",
    "    denominator = res[['team_id', 'question_id']].merge(\n",
    "                        tmp.groupby(['team_id', 'question_id'], as_index=False).agg({'vals':'prod'}),\n",
    "                        how='left',\n",
    "                        on=['team_id', 'question_id'])['vals'].values \n",
    "    return train_data.answer * preds / (1 - denominator)"
   ]
  },
  {
   "cell_type": "code",
   "execution_count": 486,
   "metadata": {},
   "outputs": [],
   "source": [
    "def m_step(model, opt, loss_func, y_m):\n",
    "    model = train_model(model, opt, loss_func,  sparse_tensor, torch.tensor(y_m))\n",
    "    return model"
   ]
  },
  {
   "cell_type": "code",
   "execution_count": 487,
   "metadata": {},
   "outputs": [],
   "source": [
    "def em_algo(model, opt, loss_func,  y, iterations = 5):\n",
    "    best_model = copy.deepcopy(model)\n",
    "    best_kend = 0.5842877279564944\n",
    "    spearman_list = []\n",
    "    kendall_list = []\n",
    "    for i in range(iterations):\n",
    "        print(f'Итерация {i}')\n",
    "        new_y = e_step(model)\n",
    "        model = m_step(model, opt, loss_func,  torch.tensor(new_y, dtype = torch.float32))\n",
    "        sp, kend = eval_rating(model.weight.data.flatten().numpy())\n",
    "        spearman_list.append(sp)\n",
    "        kendall_list.append(kend)\n",
    "        if kend > best_kend:\n",
    "            best_kend = kend\n",
    "            best_model = copy.deepcopy(model)\n",
    "        print(f'Корреляция Спирмена: {sp}')\n",
    "        print(f'Корреляция Кендалла: {kend}')\n",
    "        print()\n",
    "    return best_model, spearman_list, kendall_list"
   ]
  },
  {
   "cell_type": "code",
   "execution_count": 490,
   "metadata": {},
   "outputs": [],
   "source": [
    "#init model\n",
    "model = nn.Linear(sparse_tensor.shape[1], 1)\n",
    "with torch.no_grad():\n",
    "    model.weight.data = torch.tensor(baseline.coef_, dtype=torch.float32)\n",
    "\n",
    "opt = torch.optim.Adam(model.parameters(), lr=3e-4)\n",
    "loss_function = nn.BCELoss()"
   ]
  },
  {
   "cell_type": "code",
   "execution_count": 491,
   "metadata": {},
   "outputs": [
    {
     "name": "stdout",
     "output_type": "stream",
     "text": [
      "Итерация 0\n"
     ]
    },
    {
     "name": "stderr",
     "output_type": "stream",
     "text": [
      "/Users/yuliya/miniconda3/envs/nn/lib/python3.7/site-packages/ipykernel_launcher.py:2: UserWarning: To copy construct from a tensor, it is recommended to use sourceTensor.clone().detach() or sourceTensor.clone().detach().requires_grad_(True), rather than torch.tensor(sourceTensor).\n",
      "  \n",
      "100%|██████████| 10/10 [00:20<00:00,  2.04s/it]\n"
     ]
    },
    {
     "name": "stdout",
     "output_type": "stream",
     "text": [
      "Корреляция Спирмена: 0.7409234456364032\n",
      "Корреляция Кендалла: 0.5841089201466653\n",
      "\n",
      "Итерация 1\n"
     ]
    },
    {
     "name": "stderr",
     "output_type": "stream",
     "text": [
      "100%|██████████| 10/10 [00:20<00:00,  2.01s/it]\n"
     ]
    },
    {
     "name": "stdout",
     "output_type": "stream",
     "text": [
      "Корреляция Спирмена: 0.7408568527897602\n",
      "Корреляция Кендалла: 0.5840402301006333\n",
      "\n",
      "Итерация 2\n"
     ]
    },
    {
     "name": "stderr",
     "output_type": "stream",
     "text": [
      "100%|██████████| 10/10 [00:20<00:00,  2.02s/it]\n"
     ]
    },
    {
     "name": "stdout",
     "output_type": "stream",
     "text": [
      "Корреляция Спирмена: 0.7407108702281988\n",
      "Корреляция Кендалла: 0.5838747517919411\n",
      "\n",
      "Итерация 3\n"
     ]
    },
    {
     "name": "stderr",
     "output_type": "stream",
     "text": [
      "100%|██████████| 10/10 [00:21<00:00,  2.12s/it]\n"
     ]
    },
    {
     "name": "stdout",
     "output_type": "stream",
     "text": [
      "Корреляция Спирмена: 0.740659638962295\n",
      "Корреляция Кендалла: 0.5837859469837579\n",
      "\n",
      "Итерация 4\n"
     ]
    },
    {
     "name": "stderr",
     "output_type": "stream",
     "text": [
      "100%|██████████| 10/10 [00:20<00:00,  2.03s/it]\n"
     ]
    },
    {
     "name": "stdout",
     "output_type": "stream",
     "text": [
      "Корреляция Спирмена: 0.7405730752026731\n",
      "Корреляция Кендалла: 0.583633732651929\n",
      "\n"
     ]
    }
   ],
   "source": [
    "best_model, spearman_list, kendall_list = em_algo(model, opt, loss_function, train_data.answer)"
   ]
  },
  {
   "cell_type": "markdown",
   "metadata": {},
   "source": [
    "Метрики уменьшаются, пока не удалось выяснить почему."
   ]
  },
  {
   "cell_type": "markdown",
   "metadata": {},
   "source": [
    "# “Рейтинг-лист” турниров по сложности вопросов"
   ]
  },
  {
   "cell_type": "code",
   "execution_count": 500,
   "metadata": {},
   "outputs": [],
   "source": [
    "question_complex = baseline.coef_[0][len(encoder_q.categories_[0]):]"
   ]
  },
  {
   "cell_type": "code",
   "execution_count": 501,
   "metadata": {},
   "outputs": [],
   "source": [
    "tour_rating_list = defaultdict(list)\n",
    "for tour, question in np.unique(train_data[['tour', 'question_id']].values, axis=0):\n",
    "    tour_rating_list[tour].append(question_complex[question])"
   ]
  },
  {
   "cell_type": "code",
   "execution_count": 502,
   "metadata": {},
   "outputs": [],
   "source": [
    "tour_rating = {}\n",
    "for tour, val in tour_rating_list.items():\n",
    "    tour_rating[tour] = np.mean(val)"
   ]
  },
  {
   "cell_type": "code",
   "execution_count": 503,
   "metadata": {},
   "outputs": [
    {
     "data": {
      "text/plain": [
       "{4772: -0.30998198764148055,\n",
       " 4973: -0.324412444573232,\n",
       " 4974: -0.5433368808218821,\n",
       " 4975: -0.36644568478632045,\n",
       " 4986: -0.2488760893378258,\n",
       " 5000: -0.334892107025736,\n",
       " 5008: -0.10883938667509542,\n",
       " 5009: -0.5151727967134823,\n",
       " 5010: -0.5286644935939562,\n",
       " 5011: -0.22736564793321343,\n",
       " 5012: -0.06754638418747855,\n",
       " 5013: -0.25331503991252124,\n",
       " 5021: -0.3034117106803156,\n",
       " 5025: -0.16906875419306688,\n",
       " 5042: -0.48497580130091905,\n",
       " 5052: -0.5706154728567275,\n",
       " 5053: -0.1590047473737678,\n",
       " 5055: -0.1827479498147011,\n",
       " 5056: -0.0057238080259013665,\n",
       " 5060: -0.2412970160633798,\n",
       " 5061: -0.2908284426446859,\n",
       " 5065: -0.11368514584019793,\n",
       " 5070: -0.09871035847355873,\n",
       " 5071: 0.0071577223441462124,\n",
       " 5074: -0.23324855663103858,\n",
       " 5078: 0.03830235795680511,\n",
       " 5083: -0.16184505141428449,\n",
       " 5097: -0.30514609831443024,\n",
       " 5098: -0.16534509322410706,\n",
       " 5103: 0.13818557162001655,\n",
       " 5108: 0.013370790014258015,\n",
       " 5109: -0.38312066594950694,\n",
       " 5110: -0.22972675691919023,\n",
       " 5111: -0.12284848798611746,\n",
       " 5112: -0.34450433480883447,\n",
       " 5119: -0.4307225634747922,\n",
       " 5128: -0.04556221652922718,\n",
       " 5129: -0.09564025419084374,\n",
       " 5130: -0.11966837332482481,\n",
       " 5141: -0.10378249986979814,\n",
       " 5154: -0.2739655302093569,\n",
       " 5155: -0.23190363849052117,\n",
       " 5156: -0.3497265731800568,\n",
       " 5159: -0.2777506799584184,\n",
       " 5161: 0.00883963931769098,\n",
       " 5162: 0.0023790049213529684,\n",
       " 5163: -0.6398267065848011,\n",
       " 5179: -0.461126443742493,\n",
       " 5185: -0.08860784166001158,\n",
       " 5186: -0.2739088020144682,\n",
       " 5187: 0.1674539872249758,\n",
       " 5188: -0.31181115598351916,\n",
       " 5204: -0.3473482178503957,\n",
       " 5205: -0.031833188417922154,\n",
       " 5206: -0.06355277193228628,\n",
       " 5217: -0.030971094448906604,\n",
       " 5218: -0.49070159436604066,\n",
       " 5251: -0.3832280670942635,\n",
       " 5266: -0.15076428179994725,\n",
       " 5267: -0.5512412194979341,\n",
       " 5274: -0.1361871418204324,\n",
       " 5275: -0.16694021194943323,\n",
       " 5276: -0.6036598540518816,\n",
       " 5280: -0.5852257564504794,\n",
       " 5284: -0.3345676453616535,\n",
       " 5285: -0.5266723341678086,\n",
       " 5298: -0.4320359301114119,\n",
       " 5303: -0.5643841000072246,\n",
       " 5306: -0.2306559965822206,\n",
       " 5307: -0.24028964223597393,\n",
       " 5310: -0.18190009005325883,\n",
       " 5312: -0.23935411651194619,\n",
       " 5313: -0.1920154151157071,\n",
       " 5314: -0.36766259026793224,\n",
       " 5320: -0.45240624577046973,\n",
       " 5322: -0.1856960182812233,\n",
       " 5324: -0.34062761096273086,\n",
       " 5325: -0.12963550526316472,\n",
       " 5331: 0.07149712460602557,\n",
       " 5332: -0.3162332749405693,\n",
       " 5333: -0.20492947113691465,\n",
       " 5334: -0.3197891936210984,\n",
       " 5338: 0.005357309862892045,\n",
       " 5343: -0.15110571433620154,\n",
       " 5350: -0.12758290467453678,\n",
       " 5354: -0.3815176224627055,\n",
       " 5358: -0.24597339359937234,\n",
       " 5360: -0.21653957115294123,\n",
       " 5361: -0.25889127325542793,\n",
       " 5362: -0.0896200312704652,\n",
       " 5363: -0.572647042192201,\n",
       " 5364: -0.36579642382260963,\n",
       " 5366: -0.1193117596041974,\n",
       " 5367: 0.01553173715277127,\n",
       " 5368: -0.3885295832194798,\n",
       " 5369: -0.5642972509237695,\n",
       " 5370: -0.7005647273331512,\n",
       " 5371: -0.576152064504249,\n",
       " 5372: -0.2934762933274936,\n",
       " 5374: 0.6753057745048747,\n",
       " 5377: -0.22217002333647684,\n",
       " 5380: -0.3131616463794607,\n",
       " 5381: -0.17015540300177723,\n",
       " 5383: -0.27791517186080744,\n",
       " 5384: -0.21575416149084767,\n",
       " 5385: -0.39160772424389473,\n",
       " 5386: -0.33607629995877475,\n",
       " 5387: -0.34112503190592725,\n",
       " 5388: -0.2895522906981538,\n",
       " 5389: -0.2326820551721589,\n",
       " 5390: -0.25444761710973274,\n",
       " 5391: -0.5979079407420121,\n",
       " 5392: -0.1429937614642401,\n",
       " 5393: -0.1525454420862826,\n",
       " 5394: -0.10107322222128642,\n",
       " 5395: -0.21164384497574995,\n",
       " 5397: -0.28216211065828684,\n",
       " 5398: -0.40579627797969314,\n",
       " 5399: -0.15577867853050884,\n",
       " 5400: -0.22609450248758037,\n",
       " 5401: -0.3118778572232882,\n",
       " 5402: -0.05666165641742719,\n",
       " 5404: -0.1270821669404378,\n",
       " 5405: -0.1752176237689545,\n",
       " 5406: -0.24195007592189555,\n",
       " 5407: -0.14996690505688495,\n",
       " 5408: -0.10548067709713302,\n",
       " 5409: -0.02404496280573427,\n",
       " 5410: 0.04858226391315732,\n",
       " 5411: -0.14693892811056347,\n",
       " 5412: -0.11966942721433539,\n",
       " 5413: -0.2084267038489121,\n",
       " 5415: -0.11776637584694666,\n",
       " 5416: -0.24454130694265536,\n",
       " 5417: -0.1536817117268509,\n",
       " 5418: -0.1780338290963357,\n",
       " 5419: -0.12659963044137462,\n",
       " 5420: -0.1535876244368566,\n",
       " 5421: -0.13260503835606297,\n",
       " 5422: -0.12019293688806164,\n",
       " 5423: -0.21142704335902415,\n",
       " 5424: 0.05319134478331092,\n",
       " 5425: 0.11053591972110843,\n",
       " 5426: -0.1297069815951115,\n",
       " 5427: 0.04251762577510603,\n",
       " 5429: 0.22291585618470727,\n",
       " 5430: 0.03004105463634089,\n",
       " 5431: -0.026667712311070284,\n",
       " 5432: 0.052192801335459976,\n",
       " 5433: -0.33345935189410336,\n",
       " 5434: -0.10313463666518852,\n",
       " 5435: 0.032330740117432,\n",
       " 5436: -0.2879597383798701,\n",
       " 5437: -0.14675082146695903,\n",
       " 5438: -0.1725206035580454,\n",
       " 5439: 0.0635919892675032,\n",
       " 5440: -0.103602817807673,\n",
       " 5441: -0.40667326099814766,\n",
       " 5443: -0.14466037610164317,\n",
       " 5444: -0.007773613224954105,\n",
       " 5445: -0.24136203014084923,\n",
       " 5446: -0.27797120632430544,\n",
       " 5447: -0.34315581572208775,\n",
       " 5448: 0.043245317887711916,\n",
       " 5449: -0.4121204785483705,\n",
       " 5450: 0.20156681001821206,\n",
       " 5451: -0.23852071042429054,\n",
       " 5452: -0.07371535130852114,\n",
       " 5453: -0.08218467491832891,\n",
       " 5454: -0.2678697456023686,\n",
       " 5455: -0.14209477670626458,\n",
       " 5456: -0.12506532352502708,\n",
       " 5457: -0.054352206931197904,\n",
       " 5458: -0.23066263252981822,\n",
       " 5459: -0.5843318452208366,\n",
       " 5460: -0.24448909795715018,\n",
       " 5461: -0.27624904573699577,\n",
       " 5462: -0.43069338905823756,\n",
       " 5464: -0.5676934050872959,\n",
       " 5465: -0.11068999581765716,\n",
       " 5466: -0.5747010500391933,\n",
       " 5467: -0.24373193740877544,\n",
       " 5469: -0.285135583449726,\n",
       " 5470: -0.6172237820468892,\n",
       " 5472: -0.6726296769266581,\n",
       " 5473: -0.619476032412422,\n",
       " 5474: -0.19876403412202617,\n",
       " 5475: -0.3641158628040182,\n",
       " 5476: -0.6318797483557242,\n",
       " 5478: -0.3425797546866717,\n",
       " 5479: -0.5698743321003237,\n",
       " 5480: -0.09526953390806844,\n",
       " 5481: -0.4246346677253786,\n",
       " 5482: -0.4124880386744728,\n",
       " 5483: -0.7686212907533472,\n",
       " 5484: -0.6724602787277432,\n",
       " 5485: -0.7989825097082643,\n",
       " 5486: -0.0759928037914341,\n",
       " 5487: 0.04747807854861364,\n",
       " 5488: -0.1842311376654258,\n",
       " 5489: -0.651887067194853,\n",
       " 5490: -0.1824056911511418,\n",
       " 5491: -0.13809108690191157,\n",
       " 5492: -0.2092375884411624,\n",
       " 5493: -0.1353962081739418,\n",
       " 5495: -0.18651520644338326,\n",
       " 5496: -0.5054072108476686,\n",
       " 5497: -0.5668684954125738,\n",
       " 5498: -0.4580117055926903,\n",
       " 5499: -0.41803812846857136,\n",
       " 5500: -0.14469703867955083,\n",
       " 5501: -0.42088151120931583,\n",
       " 5502: -0.20795561246218153,\n",
       " 5503: -0.7609602542328637,\n",
       " 5504: -0.2481587101248716,\n",
       " 5505: -0.11523599119548307,\n",
       " 5506: -0.8230622379388215,\n",
       " 5507: -0.7596839121330045,\n",
       " 5508: -0.3930471108867621,\n",
       " 5509: -0.43450416224149796,\n",
       " 5510: -0.29234717164903484,\n",
       " 5511: -0.5875289416258724,\n",
       " 5512: -0.29610190129002567,\n",
       " 5513: -0.38514155725210175,\n",
       " 5514: -0.5400276880952677,\n",
       " 5515: -0.13679599801369385,\n",
       " 5516: 0.18270589142679508,\n",
       " 5517: -0.1697360455380399,\n",
       " 5521: -0.3992023776443173,\n",
       " 5522: -0.45341201271973264,\n",
       " 5523: -0.5696600350452631,\n",
       " 5524: -0.5720937671629109,\n",
       " 5526: -0.38738883207703007,\n",
       " 5527: -0.3440027338434521,\n",
       " 5528: -0.5634860815165119,\n",
       " 5529: -0.4509653064883344,\n",
       " 5530: -0.39291592952306464,\n",
       " 5531: -0.7782869586321293,\n",
       " 5532: -0.5039212786977583,\n",
       " 5533: -0.6020972670636354,\n",
       " 5534: -0.25520056648707784,\n",
       " 5535: -0.598066943118813,\n",
       " 5536: -0.2139902373873449,\n",
       " 5537: -0.02046269201772767,\n",
       " 5538: -0.14427577011306794,\n",
       " 5539: -0.42703197616033706,\n",
       " 5540: -0.30292121427447727,\n",
       " 5541: -0.042311044910245066,\n",
       " 5542: -0.7062904248432028,\n",
       " 5543: 0.011006487986424342,\n",
       " 5544: -0.6249928451765294,\n",
       " 5545: -0.4467531084181107,\n",
       " 5546: -0.22435734533856172,\n",
       " 5547: -0.3806255369040692,\n",
       " 5548: -0.3494635906613739,\n",
       " 5549: -0.2679256120657576,\n",
       " 5551: -1.3903424955978936,\n",
       " 5552: -0.6832400786403792,\n",
       " 5553: -0.3719065577897788,\n",
       " 5554: -0.09645128213427341,\n",
       " 5555: -0.38694501367181455,\n",
       " 5556: -0.17282992624604226,\n",
       " 5557: 0.1659376310848301,\n",
       " 5558: 0.15617627588208025,\n",
       " 5559: -0.4522965442919451,\n",
       " 5563: -0.09474442890099055,\n",
       " 5564: -0.7233809747630153,\n",
       " 5565: -0.7329836581021536,\n",
       " 5567: -0.16278655181985727,\n",
       " 5568: -1.6099888782926142,\n",
       " 5569: -0.7028952034384974,\n",
       " 5570: -0.9630076586173482,\n",
       " 5571: -0.4408701717272883,\n",
       " 5572: -0.3855111710710585,\n",
       " 5573: -0.8620839322717453,\n",
       " 5574: 0.0662214144189022,\n",
       " 5575: 0.30072325401799055,\n",
       " 5576: -0.3856629320897687,\n",
       " 5577: -0.6441867528327786,\n",
       " 5578: -0.6560411974476266,\n",
       " 5579: -0.7502513618409707,\n",
       " 5582: -0.11328171338834399,\n",
       " 5583: -0.5605120392842852,\n",
       " 5584: -0.05950332546648153,\n",
       " 5587: -0.19990578809574402,\n",
       " 5588: -0.28144734123688936,\n",
       " 5589: -0.34113561853323704,\n",
       " 5590: 0.0548311695836596,\n",
       " 5591: -0.6045158758645978,\n",
       " 5592: -0.9171279397928439,\n",
       " 5593: -0.7766069144715785,\n",
       " 5594: 0.0055430022169498695,\n",
       " 5597: 0.19596191714833522,\n",
       " 5598: -0.6105784550445379,\n",
       " 5599: -0.38173821381299633,\n",
       " 5600: -0.8028777140949621,\n",
       " 5601: -0.7087941918937405,\n",
       " 5602: -0.8760413770193187,\n",
       " 5603: -0.5553097897321765,\n",
       " 5604: -0.7147988530995897,\n",
       " 5605: -0.9433237559849206,\n",
       " 5606: -0.67150956432141,\n",
       " 5607: -0.2163298128494129,\n",
       " 5608: -0.47968029000083207,\n",
       " 5609: -0.4195146701405974,\n",
       " 5610: -0.4204353904608297,\n",
       " 5611: -0.18474959060801846,\n",
       " 5613: -0.20998484131665598,\n",
       " 5614: -0.5002494024449351,\n",
       " 5615: -0.5490937682039775,\n",
       " 5616: -0.3418218653053929,\n",
       " 5617: -0.29214076237876685,\n",
       " 5618: -0.3708275479836367,\n",
       " 5621: -0.12135601267148556,\n",
       " 5622: -0.10143041449976341,\n",
       " 5623: -0.042207863720059774,\n",
       " 5624: 0.06639517019792235,\n",
       " 5625: -0.4084992921456888,\n",
       " 5626: -0.3494088777127115,\n",
       " 5627: -0.41460671051422865,\n",
       " 5628: -0.25848948385744475,\n",
       " 5629: 0.234714087289608,\n",
       " 5630: -0.07861329669094093,\n",
       " 5631: 0.5703751225329973,\n",
       " 5632: -0.6625991763781974,\n",
       " 5633: -0.23059802914663938,\n",
       " 5634: 0.4085905789320811,\n",
       " 5635: -0.2730170956553998,\n",
       " 5636: -0.4787463517446125,\n",
       " 5637: -0.35675945016762806,\n",
       " 5638: -0.14854067328655715,\n",
       " 5639: 0.13722843527986242,\n",
       " 5641: -0.6990946155839871,\n",
       " 5642: -0.37264142298080616,\n",
       " 5643: -0.23955951036144407,\n",
       " 5644: -0.43687885349563627,\n",
       " 5645: -0.29114459612151744,\n",
       " 5647: -0.3104852493583714,\n",
       " 5648: -0.011252873272749169,\n",
       " 5649: -0.25937424735895914,\n",
       " 5650: -0.4049700744121734,\n",
       " 5651: -0.3249121111685238,\n",
       " 5652: -0.14665704627149598,\n",
       " 5653: -0.509109525586837,\n",
       " 5654: -0.7433679644554952,\n",
       " 5655: -0.04006360646047717,\n",
       " 5656: -0.2827795955370902,\n",
       " 5657: -0.27626033798288024,\n",
       " 5658: -0.8190038831051886,\n",
       " 5659: -0.6750723123037905,\n",
       " 5660: -0.3861263770175611,\n",
       " 5661: -0.1452757503764007,\n",
       " 5663: -0.14204099486272245,\n",
       " 5665: -0.2767461977092804,\n",
       " 5666: -0.47133915873434923,\n",
       " 5667: -0.16240243917832595,\n",
       " 5668: -0.2633086251449062,\n",
       " 5669: -0.47720901637034047,\n",
       " 5671: -0.4954192696704167,\n",
       " 5672: -0.9124535735212869,\n",
       " 5674: -0.8257479386408286,\n",
       " 5675: -0.8265816856935794,\n",
       " 5676: -0.4031063569802914,\n",
       " 5677: -0.5388538747108526,\n",
       " 5678: -0.6458034915261653,\n",
       " 5679: -0.4694048149008481,\n",
       " 5680: -0.24274974851265238,\n",
       " 5681: -0.32870167762875824,\n",
       " 5683: -0.34113219055890787,\n",
       " 5684: -0.31989853113158023,\n",
       " 5685: -0.528653443470329,\n",
       " 5686: -0.34100609626445166,\n",
       " 5687: -0.13739657481584955,\n",
       " 5688: -0.620172821695104,\n",
       " 5690: -0.2756663120294515,\n",
       " 5691: -0.146150213216958,\n",
       " 5692: -0.21085596323315003,\n",
       " 5693: -0.34063366754597335,\n",
       " 5696: -0.44764427511813804,\n",
       " 5697: -0.11188161770642302,\n",
       " 5698: -0.343266812547405,\n",
       " 5699: -0.30098967161062207,\n",
       " 5700: -0.3677297845638813,\n",
       " 5701: -0.6022442136014787,\n",
       " 5702: -0.31297094818478105,\n",
       " 5703: -0.24461736419415958,\n",
       " 5704: -0.13758200667559672,\n",
       " 5709: -0.3271812358394901,\n",
       " 5717: 0.05545505639021834,\n",
       " 5718: -0.416247962049318,\n",
       " 5720: -0.0975834794956826,\n",
       " 5721: -0.26485815593457956,\n",
       " 5722: -0.02899607815288114,\n",
       " 5723: -0.15437788374851666,\n",
       " 5724: -0.48579141877013554,\n",
       " 5725: -0.28929296985272823,\n",
       " 5726: -0.350912829097431,\n",
       " 5727: -0.7282069469493994,\n",
       " 5728: -0.3581480416576876,\n",
       " 5729: -0.6712451858870975,\n",
       " 5735: -0.6476365674164902,\n",
       " 5737: -0.3003256412832254,\n",
       " 5739: -0.4919761872430577,\n",
       " 5740: -0.490143563389281,\n",
       " 5741: -0.21036210223249405,\n",
       " 5742: -0.21746163834320653,\n",
       " 5743: -0.2945516054576943,\n",
       " 5744: -0.45276348187170423,\n",
       " 5745: -0.37994680058151187,\n",
       " 5748: -0.4453301926741591,\n",
       " 5749: -0.548206479268112,\n",
       " 5750: -0.2858286578184487,\n",
       " 5751: -0.35874612726032207,\n",
       " 5752: -0.23538018669162966,\n",
       " 5756: -0.2585519767508031,\n",
       " 5757: -0.2721980528629378,\n",
       " 5760: -0.12955396365692637,\n",
       " 5761: -0.20102911865160347,\n",
       " 5762: -0.014998206345789336,\n",
       " 5763: -0.28964535117460355,\n",
       " 5764: -0.47745590058655524,\n",
       " 5765: -0.13371853756590038,\n",
       " 5766: -0.3369906861728413,\n",
       " 5767: -0.5310173857524262,\n",
       " 5768: -0.3029066166643221,\n",
       " 5769: -0.07503346433875818,\n",
       " 5770: -0.10158971429588037,\n",
       " 5771: -0.18283082597425743,\n",
       " 5772: -0.2807797652213103,\n",
       " 5773: -0.1521602159533848,\n",
       " 5774: -0.3594384759634192,\n",
       " 5775: -0.2743605762564237,\n",
       " 5776: -0.342565860813767,\n",
       " 5777: -0.34636178714844135,\n",
       " 5778: -0.35942469320607856,\n",
       " 5779: -0.2230117221522004,\n",
       " 5780: -0.34559619720489326,\n",
       " 5781: -0.33940066135009866,\n",
       " 5782: -0.33179143603800465,\n",
       " 5783: -0.1478203442450414,\n",
       " 5784: -0.49887545672416334,\n",
       " 5785: -0.1838276886398558,\n",
       " 5786: -0.280016573904641,\n",
       " 5788: -0.23788532951411914,\n",
       " 5789: 0.026230713240081933,\n",
       " 5790: -0.14026173617848708,\n",
       " 5791: -0.08202654903301478,\n",
       " 5792: -0.3446817185433363,\n",
       " 5794: -0.4490244449057855,\n",
       " 5795: -0.3692741944112292,\n",
       " 5796: -0.2366770199183645,\n",
       " 5797: -0.5442149756976012,\n",
       " 5802: -0.5663580648588301,\n",
       " 5803: -0.5283426346351612,\n",
       " 5807: -0.3505704761404503,\n",
       " 5812: 0.01115487745607028,\n",
       " 5814: -0.5427042999975044,\n",
       " 5815: -0.25515851283597313,\n",
       " 5817: -0.3611376358068984,\n",
       " 5818: -0.3148754160954148,\n",
       " 5819: -0.23607123286734674,\n",
       " 5820: -0.311275819051734,\n",
       " 5821: -0.33421789649554207,\n",
       " 5822: -0.07950038318845845,\n",
       " 5824: -0.26097389386432024,\n",
       " 5825: -0.28918943481775017,\n",
       " 5826: -0.18435403138502618,\n",
       " 5827: -0.23527712280870716,\n",
       " 5828: -0.10093925203418082,\n",
       " 5830: -0.013519275740755721,\n",
       " 5831: -0.31962610387212526,\n",
       " 5832: -0.20231287202432716,\n",
       " 5833: -0.161514698545899,\n",
       " 5834: -0.4467092201300768,\n",
       " 5835: 0.047761736455866864,\n",
       " 5836: -0.0990210354323289,\n",
       " 5837: -0.3297644166449696,\n",
       " 5838: -0.17691229306946513,\n",
       " 5839: -0.1721929495575594,\n",
       " 5840: -0.24847254363555693,\n",
       " 5841: -0.13820234727056258,\n",
       " 5842: -0.10469367755629927,\n",
       " 5843: -0.1664525970642895,\n",
       " 5844: -0.1839362747861296,\n",
       " 5845: -0.23076824666039586,\n",
       " 5847: -0.13431411664822068,\n",
       " 5851: -0.04078052860064344,\n",
       " 5852: -0.05012063726830388,\n",
       " 5853: -0.2930327145543437,\n",
       " 5854: -0.0295340468624194,\n",
       " 5855: -0.23719342511771668,\n",
       " 5857: 0.04301627097050306,\n",
       " 5858: 0.03827485553181756,\n",
       " 5860: -0.17959571066850477,\n",
       " 5861: -0.09179099149764021,\n",
       " 5862: 0.2564310461032854,\n",
       " 5863: 0.06674782843263243,\n",
       " 5864: 0.25052771678252456,\n",
       " 5865: 0.7375898745708225,\n",
       " 5866: 1.3612959203847386,\n",
       " 5867: 0.7041455185039449,\n",
       " 5869: 1.3662091521113606,\n",
       " 5870: 1.5776180433340297,\n",
       " 5872: 0.9850606402998188,\n",
       " 5874: -0.237415167717152,\n",
       " 5875: -1.9581552693472837,\n",
       " 5877: -0.553876235112895,\n",
       " 5878: -0.7904290193377702,\n",
       " 5879: -0.17910128283670415,\n",
       " 5880: -0.017240139358891432,\n",
       " 5881: 0.06504501946268121,\n",
       " 5882: 0.34298320840629454,\n",
       " 5883: -0.2420410677798261,\n",
       " 5885: 0.10331628502944393,\n",
       " 5886: 0.6702740908196575,\n",
       " 5887: 0.10761270728733197,\n",
       " 5888: -1.0837575715550856,\n",
       " 5890: -0.07188764517856236,\n",
       " 5894: -1.1349338249763339,\n",
       " 5895: 0.09438464551205057,\n",
       " 5896: -0.4582102010186308,\n",
       " 5897: -0.19141838061062819,\n",
       " 5898: 0.32522066309110814,\n",
       " 5899: 0.17273405817879064,\n",
       " 5900: 0.38535007143408073,\n",
       " 5903: 1.0844660986033812,\n",
       " 5904: 0.7590017413864736,\n",
       " 5905: 1.5079491569832018,\n",
       " 5907: 0.26866605545129985,\n",
       " 5908: -0.33429139161907184,\n",
       " 5910: -0.8556876258383564,\n",
       " 5911: -0.08031314884627291,\n",
       " 5912: -1.6649051256715641,\n",
       " 5913: -1.0437878554925213,\n",
       " 5915: -1.2376396900767133,\n",
       " 5916: -0.004598377057196589,\n",
       " 5920: 0.3407490927579772,\n",
       " 5921: -0.20230941831403015,\n",
       " 5924: 0.39540373761592706,\n",
       " 5927: -0.7688402591405505,\n",
       " 5928: -1.1471354699152554,\n",
       " 5929: -0.8194788209223314,\n",
       " 5930: 0.3237599381488447,\n",
       " 5934: 0.5515993623320827,\n",
       " 5935: -0.0718968386477461,\n",
       " 5936: 0.39143411768210046,\n",
       " 5937: 0.05080642704617476,\n",
       " 5938: -0.04231764521341715,\n",
       " 5939: -0.23748994210741028,\n",
       " 5940: 0.46666074984687805,\n",
       " 5941: 0.468200431372928,\n",
       " 5942: 0.2890758954758286,\n",
       " 5943: 0.7948326168753059,\n",
       " 5944: 0.028862772199623386,\n",
       " 5945: 0.11066224001522693,\n",
       " 5946: 0.2642140318687224,\n",
       " 5947: 0.715902672254385,\n",
       " 5948: 0.22391793628425205,\n",
       " 5949: -0.27996897976466706,\n",
       " 5950: 0.48587812057472113,\n",
       " 5952: 0.5494182845126132,\n",
       " 5953: 0.06001581949788637,\n",
       " 5954: -0.3480113657649212,\n",
       " 5955: -0.8850566134366394,\n",
       " 5959: -0.8135606801711327,\n",
       " 5960: -0.3288810880422516,\n",
       " 5961: -0.3166637390170134,\n",
       " 5963: -0.006376444656966951,\n",
       " 5964: 1.2128989108724992,\n",
       " 5965: 0.8754731692846235,\n",
       " 5966: -0.4682286751972869,\n",
       " 5967: 0.0960768704343434,\n",
       " 5972: 0.4806444313505407,\n",
       " 5974: -0.29618684983412114,\n",
       " 5975: 0.22748531432575536,\n",
       " 5976: -0.38333927454334965,\n",
       " 5977: -0.6860108232613834,\n",
       " 5978: 0.11078076926719968,\n",
       " 5979: -0.4460758075007089,\n",
       " 5980: -0.7188572069086157,\n",
       " 5981: -0.5942573345223529,\n",
       " 5982: 0.6773368839740445,\n",
       " 5983: -0.36614379388752494,\n",
       " 5985: 0.001980373065746493,\n",
       " 5986: 0.20604796598490183,\n",
       " 5987: -0.20929086758185053,\n",
       " 5989: -0.5437709319704844,\n",
       " 5990: -0.72053121650237,\n",
       " 5991: 0.8128928616658234,\n",
       " 5992: 0.023433250629097364,\n",
       " 5993: -0.23627707881374566,\n",
       " 5994: -0.15217402109397474,\n",
       " 5995: -1.043066977503126,\n",
       " 5996: 0.09604406040302825,\n",
       " 5997: -0.2531367254826395,\n",
       " 5998: 0.14332690629023656,\n",
       " 6001: 0.7405587024429859,\n",
       " 6003: 0.26557248220027013,\n",
       " 6005: -0.4918655656627764,\n",
       " 6006: -0.06504219451964219,\n",
       " 6008: 0.044578970124851874,\n",
       " 6009: 0.5794350289782019,\n",
       " 6011: -0.05363960464395356,\n",
       " 6012: -0.6302450542310355,\n",
       " 6014: -0.25064929806916575,\n",
       " 6015: -0.6801235431677332,\n",
       " 6017: 0.2195409136558191,\n",
       " 6018: 1.0411709801330444,\n",
       " 6023: -0.18583751123318779,\n",
       " 6024: 0.9370978355537338,\n",
       " 6025: -0.9147012301091316,\n",
       " 6026: 0.19450628310469445,\n",
       " 6027: 0.21842594237317223,\n",
       " 6028: -0.2681885774752564,\n",
       " 6037: 0.21656665002619463,\n",
       " 6048: -0.3210631740374413,\n",
       " 6049: -0.5767026363364881,\n",
       " 6051: 0.7070816521648913,\n",
       " 6052: 0.28609732545672234,\n",
       " 6055: 0.0838645408169643,\n",
       " 6061: 0.26627532127315756,\n",
       " 6062: -0.005161048982631524,\n",
       " 6063: 0.343794595829425,\n",
       " 6065: -0.0661983486998604,\n",
       " 6068: -0.19193134024071715,\n",
       " 6069: -0.04918503637939999,\n",
       " 6071: -0.021260088006995734,\n",
       " 6074: 0.29634027032399557,\n",
       " 6078: 0.3183632483454544,\n",
       " 6085: -0.29935899797708915,\n",
       " 6086: 0.6787954125279579,\n",
       " 6087: 0.9989515340821983,\n",
       " 6088: 0.6994978986954407,\n",
       " 6089: -0.1286745493361814,\n",
       " 6090: -0.13765624860578943,\n",
       " 6094: -0.3595248418873275,\n",
       " 6097: -0.38306240310372264,\n",
       " 6098: -0.3267112410305145,\n",
       " 6101: 0.20482331525467742,\n",
       " 6103: 0.31911482337407343,\n",
       " 6104: -0.06222616777302318,\n",
       " 6105: 0.4470263130495181,\n",
       " 6106: 1.2639916910583326,\n",
       " 6107: 0.5274272821702412,\n",
       " 6110: -0.15917968617542655,\n",
       " 6112: -0.24152230717714518,\n",
       " 6113: -0.3341587976361141,\n",
       " 6115: -0.42187450614981997,\n",
       " 6116: 0.07435212529516823,\n",
       " 6120: -0.1355943437192376,\n",
       " 6122: -0.0540423479267855,\n",
       " 6123: -0.05953251155224584,\n",
       " 6131: -0.13944031790876377,\n",
       " 6135: -0.23955671413115018,\n",
       " 6137: 0.07927763383583826,\n",
       " 6138: -0.2465354541589756,\n",
       " 6141: -0.08996208391459765,\n",
       " 6144: -0.12604721333050126,\n",
       " 6145: 0.009481876090211467,\n",
       " 6146: -0.35819785582035785,\n",
       " 6147: -0.7475074064318559,\n",
       " 6149: -0.0769410790109559,\n",
       " 6150: 0.4609417505043404,\n",
       " 6151: -0.22457121239157996,\n",
       " 6159: 0.2552050069285171,\n",
       " 6161: 0.1279750313695658,\n",
       " 6170: -0.05901874840559864,\n",
       " 6173: -0.03262205828144042,\n",
       " 6183: -0.1468300938259128,\n",
       " 6191: -1.5974972110122168,\n",
       " 6249: -0.3947246185957664,\n",
       " 6254: 0.04149961241330155,\n",
       " 6255: -0.04754597687511322}"
      ]
     },
     "execution_count": 503,
     "metadata": {},
     "output_type": "execute_result"
    }
   ],
   "source": [
    "tour_rating"
   ]
  },
  {
   "cell_type": "code",
   "execution_count": 504,
   "metadata": {},
   "outputs": [],
   "source": [
    "sorted_tours = sorted(tour_rating.items(), key=lambda x: x[1], reverse=True)"
   ]
  },
  {
   "cell_type": "code",
   "execution_count": 505,
   "metadata": {},
   "outputs": [
    {
     "name": "stdout",
     "output_type": "stream",
     "text": [
      "Гран-при Славянки. 4 этап\n",
      "Синхрон Беловежской Зимы. День второй.\n",
      "Молодёжный Чемпионат Армении\n",
      "Донат\n",
      "Кубок Тель-Авива\n",
      "Dichtenszeit-2\n",
      "Беловежская Зима\n",
      "Синхрон ОК СПбГУ\n",
      "Игра в бисер\n",
      "Белодачники пишут\n",
      "Gamer - 1\n",
      "ОЧВР. 1 тур\n",
      "Joystick Cup\n",
      "Чемпионат Мира. Этап 2 Группа С\n",
      "Синхрон Беловежской Зимы. День первый.\n",
      "Из Минска с любовью. Этап 1.\n",
      "Кубок Новополоцка\n",
      "Чемпионат Мира. Этап 3. Группа С\n",
      "Трэцяя актава. Ліга нацый: Беларусь\n",
      "Синхрон открытого чемпионата Чехии\n"
     ]
    }
   ],
   "source": [
    "#lest popular\n",
    "for tour, rating in sorted_tours[:20]:\n",
    "    print(tournaments[tour]['name'])"
   ]
  },
  {
   "cell_type": "code",
   "execution_count": 506,
   "metadata": {},
   "outputs": [
    {
     "name": "stdout",
     "output_type": "stream",
     "text": [
      "Синхрон Майка Иванова\n",
      "Чемпионат Азербайджана\n",
      "Межфакультетский кубок МГУ\n",
      "Школьная лига. III тур.\n",
      "Пляжное ЧГК\n",
      "Gamer - 2\n",
      "Студенческая лига ЧТ\n",
      "Золотые огни: часть 2\n",
      "Турнир малых факультетов МГУ\n",
      "Гран-при Славянки. 6 этап\n",
      "Нескучный кубок\n",
      "Зеркало Я.Сова\n",
      "Осенняя поляна\n",
      "Угрюмый Ёрш\n",
      "Лёгкий Смоленск\n",
      "Дилижанские игры\n",
      "Всеармянский Интеллектуальный Фестиваль\n",
      "Голова профессора Доуэля\n",
      "Borisov Brain Cup\n",
      "Славянка без раздаток. 4 этап\n"
     ]
    }
   ],
   "source": [
    "#most popular\n",
    "for tour, rating in sorted_tours[-20:]:\n",
    "    print(tournaments[tour]['name'])"
   ]
  },
  {
   "cell_type": "code",
   "execution_count": null,
   "metadata": {},
   "outputs": [],
   "source": []
  }
 ],
 "metadata": {
  "kernelspec": {
   "display_name": "Python 3",
   "language": "python",
   "name": "python3"
  },
  "language_info": {
   "codemirror_mode": {
    "name": "ipython",
    "version": 3
   },
   "file_extension": ".py",
   "mimetype": "text/x-python",
   "name": "python",
   "nbconvert_exporter": "python",
   "pygments_lexer": "ipython3",
   "version": "3.7.9"
  }
 },
 "nbformat": 4,
 "nbformat_minor": 4
}
